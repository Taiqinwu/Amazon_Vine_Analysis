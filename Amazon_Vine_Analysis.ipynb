{
  "nbformat": 4,
  "nbformat_minor": 0,
  "metadata": {
    "colab": {
      "provenance": []
    },
    "kernelspec": {
      "name": "python3",
      "display_name": "Python 3"
    },
    "nteract": {
      "version": "0.12.3"
    },
    "language_info": {
      "name": "python"
    }
  },
  "cells": [
    {
      "cell_type": "code",
      "metadata": {
        "id": "V58rxea0HqSa",
        "colab": {
          "base_uri": "https://localhost:8080/"
        },
        "outputId": "f8685630-9687-41a1-c590-92d8d8791cac"
      },
      "source": [
        "import os\n",
        "# Find the latest version of spark 3.0 from http://www.apache.org/dist/spark/ and enter as the spark version\n",
        "# For example:\n",
        "# spark_version = 'spark-3.0.3'\n",
        "spark_version = 'spark-3.3.0'\n",
        "os.environ['SPARK_VERSION'] = spark_version\n",
        "\n",
        "# Install Spark and Java\n",
        "!apt-get update\n",
        "!apt-get install openjdk-11-jdk-headless -qq > /dev/null\n",
        "!wget -q http://www.apache.org/dist/spark/$SPARK_VERSION/$SPARK_VERSION-bin-hadoop3.tgz\n",
        "!tar xf $SPARK_VERSION-bin-hadoop3.tgz\n",
        "!pip install -q findspark\n",
        "\n",
        "# Set Environment Variables\n",
        "import os\n",
        "os.environ[\"JAVA_HOME\"] = \"/usr/lib/jvm/java-11-openjdk-amd64\"\n",
        "os.environ[\"SPARK_HOME\"] = f\"/content/{spark_version}-bin-hadoop3\"\n",
        "\n",
        "# Start a SparkSession\n",
        "import findspark\n",
        "findspark.init()"
      ],
      "execution_count": 2,
      "outputs": [
        {
          "output_type": "stream",
          "name": "stdout",
          "text": [
            "\r0% [Working]\r            \rGet:1 http://security.ubuntu.com/ubuntu bionic-security InRelease [88.7 kB]\n",
            "\r0% [Connecting to archive.ubuntu.com (185.125.190.36)] [1 InRelease 14.2 kB/88.\r                                                                               \rGet:2 https://cloud.r-project.org/bin/linux/ubuntu bionic-cran40/ InRelease [3,626 B]\n",
            "\r0% [Waiting for headers] [1 InRelease 69.2 kB/88.7 kB 78%] [2 InRelease 0 B/3,6\r0% [Waiting for headers] [1 InRelease 88.7 kB/88.7 kB 100%] [Waiting for header\r0% [Waiting for headers] [Waiting for headers] [Connecting to ppa.launchpad.net\r0% [2 InRelease gpgv 3,626 B] [Waiting for headers] [Waiting for headers] [Conn\r                                                                               \rHit:3 http://archive.ubuntu.com/ubuntu bionic InRelease\n",
            "\r                                                                               \r0% [2 InRelease gpgv 3,626 B] [Waiting for headers] [Waiting for headers]\r                                                                         \rIgn:4 https://developer.download.nvidia.com/compute/machine-learning/repos/ubuntu1804/x86_64  InRelease\n",
            "\r0% [2 InRelease gpgv 3,626 B] [Waiting for headers] [Waiting for headers] [Wait\r                                                                               \rGet:5 https://developer.download.nvidia.com/compute/cuda/repos/ubuntu1804/x86_64  InRelease [1,581 B]\n",
            "Hit:6 https://developer.download.nvidia.com/compute/machine-learning/repos/ubuntu1804/x86_64  Release\n",
            "Hit:7 http://ppa.launchpad.net/c2d4u.team/c2d4u4.0+/ubuntu bionic InRelease\n",
            "Get:8 http://archive.ubuntu.com/ubuntu bionic-updates InRelease [88.7 kB]\n",
            "Hit:9 http://ppa.launchpad.net/cran/libgit2/ubuntu bionic InRelease\n",
            "Hit:10 http://ppa.launchpad.net/deadsnakes/ppa/ubuntu bionic InRelease\n",
            "Get:11 http://archive.ubuntu.com/ubuntu bionic-backports InRelease [83.3 kB]\n",
            "Get:12 http://ppa.launchpad.net/graphics-drivers/ppa/ubuntu bionic InRelease [21.3 kB]\n",
            "Get:13 http://security.ubuntu.com/ubuntu bionic-security/main amd64 Packages [2,990 kB]\n",
            "Get:14 http://security.ubuntu.com/ubuntu bionic-security/universe amd64 Packages [1,546 kB]\n",
            "Get:15 https://developer.download.nvidia.com/compute/cuda/repos/ubuntu1804/x86_64  Packages [913 kB]\n",
            "Get:17 http://archive.ubuntu.com/ubuntu bionic-updates/universe amd64 Packages [2,323 kB]\n",
            "Get:18 http://archive.ubuntu.com/ubuntu bionic-updates/main amd64 Packages [3,422 kB]\n",
            "Get:19 http://ppa.launchpad.net/graphics-drivers/ppa/ubuntu bionic/main amd64 Packages [48.3 kB]\n",
            "Fetched 11.5 MB in 4s (2,747 kB/s)\n",
            "Reading package lists... Done\n"
          ]
        }
      ]
    },
    {
      "cell_type": "code",
      "metadata": {
        "id": "_xKwTpATHqSe",
        "colab": {
          "base_uri": "https://localhost:8080/"
        },
        "outputId": "753628f7-8694-4b2e-ae98-f773a5d3723b"
      },
      "source": [
        "# Download the Postgres driver that will allow Spark to interact with Postgres.\n",
        "!wget https://jdbc.postgresql.org/download/postgresql-42.5.0.jar"
      ],
      "execution_count": 3,
      "outputs": [
        {
          "output_type": "stream",
          "name": "stdout",
          "text": [
            "--2022-10-02 19:34:36--  https://jdbc.postgresql.org/download/postgresql-42.5.0.jar\n",
            "Resolving jdbc.postgresql.org (jdbc.postgresql.org)... 72.32.157.228, 2001:4800:3e1:1::228\n",
            "Connecting to jdbc.postgresql.org (jdbc.postgresql.org)|72.32.157.228|:443... connected.\n",
            "HTTP request sent, awaiting response... 200 OK\n",
            "Length: 1046274 (1022K) [application/java-archive]\n",
            "Saving to: ‘postgresql-42.5.0.jar’\n",
            "\n",
            "postgresql-42.5.0.j 100%[===================>]   1022K  6.43MB/s    in 0.2s    \n",
            "\n",
            "2022-10-02 19:34:37 (6.43 MB/s) - ‘postgresql-42.5.0.jar’ saved [1046274/1046274]\n",
            "\n"
          ]
        }
      ]
    },
    {
      "cell_type": "code",
      "metadata": {
        "id": "MMqDAjVS0KN9"
      },
      "source": [
        "from pyspark.sql import SparkSession\n",
        "spark = SparkSession.builder.appName(\"M16-Amazon-Challenge\").config(\"spark.driver.extraClassPath\",\"/content/postgresql-42.5.0.jar\").getOrCreate()"
      ],
      "execution_count": 4,
      "outputs": []
    },
    {
      "cell_type": "markdown",
      "metadata": {
        "id": "cyBsySGuY-9V"
      },
      "source": [
        "### Load Amazon Data into Spark DataFrame"
      ]
    },
    {
      "cell_type": "code",
      "metadata": {
        "id": "CtCmBhQJY-9Z",
        "colab": {
          "base_uri": "https://localhost:8080/"
        },
        "outputId": "ca69a339-71df-46be-ad4a-02245d7863cc"
      },
      "source": [
        "from pyspark import SparkFiles\n",
        "url = \"https://s3.amazonaws.com/amazon-reviews-pds/tsv/amazon_reviews_us_Toys_v1_00.tsv.gz\"\n",
        "spark.sparkContext.addFile(url)\n",
        "df = spark.read.option(\"encoding\", \"UTF-8\").csv(SparkFiles.get(\"amazon_reviews_us_Toys_v1_00.tsv.gz\"), sep=\"\\t\", header=True, inferSchema=True)\n",
        "df.show()"
      ],
      "execution_count": 5,
      "outputs": [
        {
          "output_type": "stream",
          "name": "stdout",
          "text": [
            "+-----------+-----------+--------------+----------+--------------+--------------------+----------------+-----------+-------------+-----------+----+-----------------+--------------------+--------------------+-------------------+\n",
            "|marketplace|customer_id|     review_id|product_id|product_parent|       product_title|product_category|star_rating|helpful_votes|total_votes|vine|verified_purchase|     review_headline|         review_body|        review_date|\n",
            "+-----------+-----------+--------------+----------+--------------+--------------------+----------------+-----------+-------------+-----------+----+-----------------+--------------------+--------------------+-------------------+\n",
            "|         US|   18778586| RDIJS7QYB6XNR|B00EDBY7X8|     122952789|Monopoly Junior B...|            Toys|          5|            0|          0|   N|                Y|          Five Stars|        Excellent!!!|2015-08-31 00:00:00|\n",
            "|         US|   24769659|R36ED1U38IELG8|B00D7JFOPC|     952062646|56 Pieces of Wood...|            Toys|          5|            0|          0|   N|                Y|Good quality trac...|Great quality woo...|2015-08-31 00:00:00|\n",
            "|         US|   44331596| R1UE3RPRGCOLD|B002LHA74O|     818126353|Super Jumbo Playi...|            Toys|          2|            1|          1|   N|                Y|           Two Stars|Cards are not as ...|2015-08-31 00:00:00|\n",
            "|         US|   23310293|R298788GS6I901|B00ARPLCGY|     261944918|Barbie Doll and F...|            Toys|          5|            0|          0|   N|                Y|my daughter loved...|my daughter loved...|2015-08-31 00:00:00|\n",
            "|         US|   38745832|  RNX4EXOBBPN5|B00UZOPOFW|     717410439|Emazing Lights eL...|            Toys|          1|            1|          1|   N|                Y|     DONT BUY THESE!|Do not buy these!...|2015-08-31 00:00:00|\n",
            "|         US|   13394189|R3BPETL222LMIM|B009B7F6CA|     873028700|Melissa & Doug Wa...|            Toys|          5|            0|          0|   N|                Y|          Five Stars|Great item. Pictu...|2015-08-31 00:00:00|\n",
            "|         US|    2749569|R3SORMPJZO3F2J|B0101EHRSM|     723424342|Big Bang Cosmic P...|            Toys|          3|            2|          2|   N|                Y|         Three Stars|To keep together,...|2015-08-31 00:00:00|\n",
            "|         US|   41137196|R2RDOJQ0WBZCF6|B00407S11Y|     383363775|Fun Express Insec...|            Toys|          5|            0|          0|   N|                Y|          Five Stars|I was pleased wit...|2015-08-31 00:00:00|\n",
            "|         US|     433677|R2B8VBEPB4YEZ7|B00FGPU7U2|     780517568|Fisher-Price Octo...|            Toys|          5|            0|          0|   N|                Y|          Five Stars|    Children like it|2015-08-31 00:00:00|\n",
            "|         US|    1297934|R1CB783I7B0U52|B0013OY0S0|     269360126|Claw Climber Goli...|            Toys|          1|            0|          1|   N|                Y|Shame on the sell...|Showed up not how...|2015-08-31 00:00:00|\n",
            "|         US|   52006292| R2D90RQQ3V8LH|B00519PJTW|     493486387|100 Foot Multicol...|            Toys|          5|            0|          0|   N|                Y|          Five Stars|Really liked thes...|2015-08-31 00:00:00|\n",
            "|         US|   32071052|R1Y4ZOUGFMJ327|B001TCY2DO|     459122467|Pig Jumbo Foil Ba...|            Toys|          5|            0|          0|   N|                Y|   Nice huge balloon|Nice huge balloon...|2015-08-31 00:00:00|\n",
            "|         US|    7360347|R2BUV9QJI2A00X|B00DOQCWF8|     226984155|Minecraft Animal ...|            Toys|          5|            0|          1|   N|                Y|          Five Stars|          Great deal|2015-08-31 00:00:00|\n",
            "|         US|   11613707| RSUHRJFJIRB3Z|B004C04I4I|     375659886|Disney Baby: Eeyo...|            Toys|          4|            0|          0|   N|                Y|          Four Stars|       As Advertised|2015-08-31 00:00:00|\n",
            "|         US|   13545982|R1T96CG98BBA15|B00NWGEKBY|     933734136|Team Losi 8IGHT-E...|            Toys|          3|            2|          4|   N|                Y|... servo so expe...|Comes w a 15$ ser...|2015-08-31 00:00:00|\n",
            "|         US|   43880421| R2ATXF4QQ30YW|B00000JS5S|     341842639|Hot Wheels 48- Ca...|            Toys|          5|            0|          0|   N|                Y|          Five Stars|   awesome ! Thanks!|2015-08-31 00:00:00|\n",
            "|         US|    1662075|R1YS3DS218NNMD|B00XPWXYDK|     210135375|ZuZo 2.4GHz 4 CH ...|            Toys|          5|            4|          4|   N|                N|The closest relev...|I got this item f...|2015-08-31 00:00:00|\n",
            "|         US|   18461411|R2SDXLTLF92O0H|B00VPXX92W|     705054378|Teenage Mutant Ni...|            Toys|          5|            0|          0|   N|                Y|          Five Stars|It was a birthday...|2015-08-31 00:00:00|\n",
            "|         US|   27225859| R4R337CCDWLNG|B00YRA3H4U|     223420727|Franklin Sports M...|            Toys|          3|            0|          1|   Y|                N|Got wrong product...|Got a wrong produ...|2015-08-31 00:00:00|\n",
            "|         US|   20494593|R32Z6UA4S5Q630|B009T8BSQY|     787701676|Alien Frontiers: ...|            Toys|          1|            0|          0|   N|                Y|         Overpriced.|You need expansio...|2015-08-31 00:00:00|\n",
            "+-----------+-----------+--------------+----------+--------------+--------------------+----------------+-----------+-------------+-----------+----+-----------------+--------------------+--------------------+-------------------+\n",
            "only showing top 20 rows\n",
            "\n"
          ]
        }
      ]
    },
    {
      "cell_type": "markdown",
      "metadata": {
        "id": "2yUSe55VY-9t"
      },
      "source": [
        "### Deliveriable 2"
      ]
    },
    {
      "cell_type": "code",
      "source": [
        "filter_1 = df.filter(df.total_votes > 20)\n",
        "filter_1.show()"
      ],
      "metadata": {
        "colab": {
          "base_uri": "https://localhost:8080/"
        },
        "id": "aKXxtwfgL9Af",
        "outputId": "4c2e8141-2692-4838-ec51-6f20491949ec"
      },
      "execution_count": 6,
      "outputs": [
        {
          "output_type": "stream",
          "name": "stdout",
          "text": [
            "+-----------+-----------+--------------+----------+--------------+--------------------+----------------+-----------+-------------+-----------+----+-----------------+--------------------+--------------------+-------------------+\n",
            "|marketplace|customer_id|     review_id|product_id|product_parent|       product_title|product_category|star_rating|helpful_votes|total_votes|vine|verified_purchase|     review_headline|         review_body|        review_date|\n",
            "+-----------+-----------+--------------+----------+--------------+--------------------+----------------+-----------+-------------+-----------+----+-----------------+--------------------+--------------------+-------------------+\n",
            "|         US|   11025729| ROP6ITXO8K5V2|B00LE9MZMW|     778942419|YJ Moyu 13x13x13 ...|            Toys|          5|           23|         27|   N|                Y|          Five Stars|Great cube, moves...|2015-08-31 00:00:00|\n",
            "|         US|   50123725|R3ND1LVU7AXCVF|B00LOV24VC|     363255349|Marshmallow Furni...|            Toys|          1|           21|         21|   N|                Y|If you want a qua...|i bought this cha...|2015-08-31 00:00:00|\n",
            "|         US|   44167324|R1QS8AOD6HX3ED|B011BWUDGG|     501779560|Leray Self Balanc...|            Toys|          4|           59|         81|   N|                N|   Solid warranty...|[[VIDEOID:164d1b1...|2015-08-31 00:00:00|\n",
            "|         US|   44759540|R3ED60RC69CCQ6|B00VJKTLMS|     917726757|Fisher-Price Nick...|            Toys|          5|           22|         23|   Y|                N|Lots of fun if yo...|This toy is a kno...|2015-08-31 00:00:00|\n",
            "|         US|   13738051|R2MDI1TP46VSYD|B00IF1VYEW|     392025139|PLAYMOBIL Royal L...|            Toys|          3|            9|         21|   N|                Y|Once put together...|Once put together...|2015-08-31 00:00:00|\n",
            "|         US|   43450674|R2JM687C525WR9|B00KH6BQJG|     116308869|OgoSport OgoBild ...|            Toys|          3|           33|         33|   Y|                N|Not bad, but we t...|cWe've had the Hu...|2015-08-31 00:00:00|\n",
            "|         US|   38209184|R2LWX4TZ67FWPT|B00IYOCSE0|     825711912|Flexible Flyer Pl...|            Toys|          4|           50|         50|   N|                N|its a great swing...|its a great swing...|2015-08-31 00:00:00|\n",
            "|         US|    7719843|R29IYHPYD14AGI|B000F3V2MW|     253592398|ALEX Toys Craft M...|            Toys|          3|           84|         84|   N|                Y|    preteen projects|I purchased this ...|2015-08-31 00:00:00|\n",
            "|         US|   21817391| RRO8C1IVZMD6H|B011KD5CGW|     984270738|Playskool Heroes ...|            Toys|          5|           22|         22|   N|                N|Rescan line is sm...|When buying rescu...|2015-08-31 00:00:00|\n",
            "|         US|   16379976|R2GHOWIWDVLN18|B00X9JDPYC|     681351265|UDI HD+ Drone wit...|            Toys|          1|           28|         36|   N|                Y|            One Star|The damn thing fl...|2015-08-31 00:00:00|\n",
            "|         US|   28820853|R30PJ9XUHFTY5D|B003VYAJMG|     103705238|Little Tikes Bold...|            Toys|          5|           42|         43|   N|                N|My Granddaughter ...|My 18 month old g...|2015-08-31 00:00:00|\n",
            "|         US|   35645071| RK12D8DTG4G82|B013JSIUQK|     709321322|Magic: the Gather...|            Toys|          5|            5|         22|   N|                N|    Sweet box to buy|That first review...|2015-08-31 00:00:00|\n",
            "|         US|    9988621|R2F7D9N3SSQC20|B00YI1CHHG|     150124290|CloudPets 12in - ...|            Toys|          4|           32|         34|   N|                N|My daughter and I...|This bear is incr...|2015-08-31 00:00:00|\n",
            "|         US|   27803490| RN4VK9FV66YPS|B00WJ1O76G|     701543085|LeapFrog Number L...|            Toys|          5|           29|         33|   N|                N|         LOVE THIS!!|[[VIDEOID:9050e95...|2015-08-31 00:00:00|\n",
            "|         US|   50970965|R18T8SFBDXAKSY|B002TLDRI0|     198159965|JIGBOARD 1500 - J...|            Toys|          5|           95|         95|   N|                Y|Love it. With fiv...|Love it.  With fi...|2015-08-31 00:00:00|\n",
            "|         US|    8109655|R36SKVJXZ0I98A|8499000606|     536492553|Syma S107/S107G R...|            Toys|          5|          124|        127|   N|                N|Nice, light weigh...|The Syma Helicopt...|2015-08-31 00:00:00|\n",
            "|         US|   23579166| RJDIWMOZT0EGZ|B010TUEMOA|     477493851|Warhammer Age of ...|            Toys|          1|           11|         27|   N|                N|       waste of time|Overpriced and un...|2015-08-31 00:00:00|\n",
            "|         US|     182750|R3PAIHQSO707G4|B010TU7LP2|       3331341|Exploding Kittens...|            Toys|          5|          189|        221|   N|                N|NSFW = NOT SAFE F...|Exploding Kittens...|2015-08-31 00:00:00|\n",
            "|         US|    1449184|R2TETIV0IVWFSJ|B008R67UKM|     775534268|Good cosplay stra...|            Toys|          4|           80|         82|   N|                Y|and fits nicely. ...|Well constructed,...|2015-08-31 00:00:00|\n",
            "|         US|    6105658|R1VBVD23GPZW0E|B00YSWUDGM|     412449765|100 Assorted Poke...|            Toys|          5|           55|         58|   N|                Y|So that was prett...|Came in a brown b...|2015-08-31 00:00:00|\n",
            "+-----------+-----------+--------------+----------+--------------+--------------------+----------------+-----------+-------------+-----------+----+-----------------+--------------------+--------------------+-------------------+\n",
            "only showing top 20 rows\n",
            "\n"
          ]
        }
      ]
    },
    {
      "cell_type": "code",
      "source": [
        "filter_2 = filter_1.filter((filter_1.helpful_votes / filter_1.total_votes) >= 0.5)\n",
        "filter_2.show()"
      ],
      "metadata": {
        "colab": {
          "base_uri": "https://localhost:8080/"
        },
        "id": "2xTvqhhhCghX",
        "outputId": "053f1d74-0956-41c6-e109-4cc0be1829b3"
      },
      "execution_count": 7,
      "outputs": [
        {
          "output_type": "stream",
          "name": "stdout",
          "text": [
            "+-----------+-----------+--------------+----------+--------------+--------------------+----------------+-----------+-------------+-----------+----+-----------------+--------------------+--------------------+-------------------+\n",
            "|marketplace|customer_id|     review_id|product_id|product_parent|       product_title|product_category|star_rating|helpful_votes|total_votes|vine|verified_purchase|     review_headline|         review_body|        review_date|\n",
            "+-----------+-----------+--------------+----------+--------------+--------------------+----------------+-----------+-------------+-----------+----+-----------------+--------------------+--------------------+-------------------+\n",
            "|         US|   11025729| ROP6ITXO8K5V2|B00LE9MZMW|     778942419|YJ Moyu 13x13x13 ...|            Toys|          5|           23|         27|   N|                Y|          Five Stars|Great cube, moves...|2015-08-31 00:00:00|\n",
            "|         US|   50123725|R3ND1LVU7AXCVF|B00LOV24VC|     363255349|Marshmallow Furni...|            Toys|          1|           21|         21|   N|                Y|If you want a qua...|i bought this cha...|2015-08-31 00:00:00|\n",
            "|         US|   44167324|R1QS8AOD6HX3ED|B011BWUDGG|     501779560|Leray Self Balanc...|            Toys|          4|           59|         81|   N|                N|   Solid warranty...|[[VIDEOID:164d1b1...|2015-08-31 00:00:00|\n",
            "|         US|   44759540|R3ED60RC69CCQ6|B00VJKTLMS|     917726757|Fisher-Price Nick...|            Toys|          5|           22|         23|   Y|                N|Lots of fun if yo...|This toy is a kno...|2015-08-31 00:00:00|\n",
            "|         US|   43450674|R2JM687C525WR9|B00KH6BQJG|     116308869|OgoSport OgoBild ...|            Toys|          3|           33|         33|   Y|                N|Not bad, but we t...|cWe've had the Hu...|2015-08-31 00:00:00|\n",
            "|         US|   38209184|R2LWX4TZ67FWPT|B00IYOCSE0|     825711912|Flexible Flyer Pl...|            Toys|          4|           50|         50|   N|                N|its a great swing...|its a great swing...|2015-08-31 00:00:00|\n",
            "|         US|    7719843|R29IYHPYD14AGI|B000F3V2MW|     253592398|ALEX Toys Craft M...|            Toys|          3|           84|         84|   N|                Y|    preteen projects|I purchased this ...|2015-08-31 00:00:00|\n",
            "|         US|   21817391| RRO8C1IVZMD6H|B011KD5CGW|     984270738|Playskool Heroes ...|            Toys|          5|           22|         22|   N|                N|Rescan line is sm...|When buying rescu...|2015-08-31 00:00:00|\n",
            "|         US|   16379976|R2GHOWIWDVLN18|B00X9JDPYC|     681351265|UDI HD+ Drone wit...|            Toys|          1|           28|         36|   N|                Y|            One Star|The damn thing fl...|2015-08-31 00:00:00|\n",
            "|         US|   28820853|R30PJ9XUHFTY5D|B003VYAJMG|     103705238|Little Tikes Bold...|            Toys|          5|           42|         43|   N|                N|My Granddaughter ...|My 18 month old g...|2015-08-31 00:00:00|\n",
            "|         US|    9988621|R2F7D9N3SSQC20|B00YI1CHHG|     150124290|CloudPets 12in - ...|            Toys|          4|           32|         34|   N|                N|My daughter and I...|This bear is incr...|2015-08-31 00:00:00|\n",
            "|         US|   27803490| RN4VK9FV66YPS|B00WJ1O76G|     701543085|LeapFrog Number L...|            Toys|          5|           29|         33|   N|                N|         LOVE THIS!!|[[VIDEOID:9050e95...|2015-08-31 00:00:00|\n",
            "|         US|   50970965|R18T8SFBDXAKSY|B002TLDRI0|     198159965|JIGBOARD 1500 - J...|            Toys|          5|           95|         95|   N|                Y|Love it. With fiv...|Love it.  With fi...|2015-08-31 00:00:00|\n",
            "|         US|    8109655|R36SKVJXZ0I98A|8499000606|     536492553|Syma S107/S107G R...|            Toys|          5|          124|        127|   N|                N|Nice, light weigh...|The Syma Helicopt...|2015-08-31 00:00:00|\n",
            "|         US|     182750|R3PAIHQSO707G4|B010TU7LP2|       3331341|Exploding Kittens...|            Toys|          5|          189|        221|   N|                N|NSFW = NOT SAFE F...|Exploding Kittens...|2015-08-31 00:00:00|\n",
            "|         US|    1449184|R2TETIV0IVWFSJ|B008R67UKM|     775534268|Good cosplay stra...|            Toys|          4|           80|         82|   N|                Y|and fits nicely. ...|Well constructed,...|2015-08-31 00:00:00|\n",
            "|         US|    6105658|R1VBVD23GPZW0E|B00YSWUDGM|     412449765|100 Assorted Poke...|            Toys|          5|           55|         58|   N|                Y|So that was prett...|Came in a brown b...|2015-08-31 00:00:00|\n",
            "|         US|   48638849|R1AJKXVHURPVCZ|B00DCENMWY|     376397735|Mice and Mystics:...|            Toys|          3|           12|         22|   N|                Y|Lacking in produc...|Keeping everythin...|2015-08-31 00:00:00|\n",
            "|         US|   29775971|R32RD311POLW7G|B00IEH9FQG|     303166933|KidKraft Airplane...|            Toys|          3|           25|         27|   N|                Y|Adorable but asse...|Aesthetically, th...|2015-08-30 00:00:00|\n",
            "|         US|   35208712|R1VXO073B9HOGC|B0033JB3UG|     676646525| Buttercup Dollhouse|            Toys|          4|           29|         30|   N|                Y|Cute little doll ...|You have to prep ...|2015-08-30 00:00:00|\n",
            "+-----------+-----------+--------------+----------+--------------+--------------------+----------------+-----------+-------------+-----------+----+-----------------+--------------------+--------------------+-------------------+\n",
            "only showing top 20 rows\n",
            "\n"
          ]
        }
      ]
    },
    {
      "cell_type": "code",
      "source": [
        "vine_paid = filter_2.filter(df.vine == 'Y')\n",
        "vine_paid.show()"
      ],
      "metadata": {
        "colab": {
          "base_uri": "https://localhost:8080/"
        },
        "id": "9GXLu53MCgkH",
        "outputId": "07bc9bed-69d1-4bba-bf0e-cd75a836edbb"
      },
      "execution_count": 8,
      "outputs": [
        {
          "output_type": "stream",
          "name": "stdout",
          "text": [
            "+-----------+-----------+--------------+----------+--------------+--------------------+----------------+-----------+-------------+-----------+----+-----------------+--------------------+--------------------+-------------------+\n",
            "|marketplace|customer_id|     review_id|product_id|product_parent|       product_title|product_category|star_rating|helpful_votes|total_votes|vine|verified_purchase|     review_headline|         review_body|        review_date|\n",
            "+-----------+-----------+--------------+----------+--------------+--------------------+----------------+-----------+-------------+-----------+----+-----------------+--------------------+--------------------+-------------------+\n",
            "|         US|   44759540|R3ED60RC69CCQ6|B00VJKTLMS|     917726757|Fisher-Price Nick...|            Toys|          5|           22|         23|   Y|                N|Lots of fun if yo...|This toy is a kno...|2015-08-31 00:00:00|\n",
            "|         US|   43450674|R2JM687C525WR9|B00KH6BQJG|     116308869|OgoSport OgoBild ...|            Toys|          3|           33|         33|   Y|                N|Not bad, but we t...|cWe've had the Hu...|2015-08-31 00:00:00|\n",
            "|         US|   45716675| RUB4AUWGHG16G|B00T03U0OO|     754581011|Disney Frozen Els...|            Toys|          4|           25|         27|   Y|                N|and of course lit...|This might be the...|2015-08-30 00:00:00|\n",
            "|         US|   52221911|R1S3IDYJUA6V2G|B00U5UH9CC|     205348267|FurReal Friends J...|            Toys|          5|           28|         32|   Y|                N|Video Shows It Be...|[[VIDEOID:b560180...|2015-08-27 00:00:00|\n",
            "|         US|   49620639| RZFLN8FD5Y2M6|B00TF8Z7ZG|     552869173|Thames & Kosmos R...|            Toys|          4|           25|         28|   Y|                N|    A good challenge|This was a bit fr...|2015-08-27 00:00:00|\n",
            "|         US|   26903314|R1V8NDXD9SETO5|B00SOG4W56|     133690318|FurReal Friends S...|            Toys|          3|          320|        352|   Y|                N|In our opinion, n...|Don't get me wron...|2015-08-27 00:00:00|\n",
            "|         US|   49161703|R2H4VEFWHP50M3|B00UPAYYCA|     626860150|Chrono Bomb Original|            Toys|          5|           26|         36|   Y|                N|FANTASTIC GAME!!!...|This is an awesom...|2015-08-27 00:00:00|\n",
            "|         US|   27140716|R3DP6Y0A8WXUOV|B00V3DHJC0|     663413144|My First Lab Mini...|            Toys|          5|           21|         21|   Y|                N|Outstanding!  A r...|My First Lab Mini...|2015-08-26 00:00:00|\n",
            "|         US|   35391116| R49L85GZIKH4D|1601257457|     505075355|Pathfinder Advent...|            Toys|          3|           33|         36|   Y|                N|Fun and better th...|I was kind of sur...|2015-08-26 00:00:00|\n",
            "|         US|   47107073|R34JSTH01HK1J8|B00T03U0OO|     754581011|Disney Frozen Els...|            Toys|          4|           75|         80|   Y|                N|          Ice Palace|[[VIDEOID:2e52e58...|2015-08-25 00:00:00|\n",
            "|         US|   47030935|R1RXSJILN39UY1|B00VJKT0QU|     660207223|Fisher-Price Brig...|            Toys|          5|           48|         53|   Y|                N| Lights, music, fun!|I ordered this to...|2015-08-24 00:00:00|\n",
            "|         US|   34571698| R79XS8S5EYX59|B00T0GY3U8|     977011021|Dimension: The Sp...|            Toys|          3|           20|         22|   Y|                N|A very original g...|Over the past two...|2015-08-24 00:00:00|\n",
            "|         US|   20047667|R24STRS5M3QEXQ|B00U26LQDC|      28745879|Mega Bloks First ...|            Toys|          5|           60|         65|   Y|                N|Mega Bloks First ...|A must have toy f...|2015-08-24 00:00:00|\n",
            "|         US|   45378171|R15HJU8XNX1XG1|B00XUZH8DE|     501465614|VTech Go! Go! Sma...|            Toys|          4|           25|         26|   Y|                N|Excellent product...|The VTech Go! Go!...|2015-08-23 00:00:00|\n",
            "|         US|   52008531|R1NMYF3BJM72A0|B00PNAGN7Q|     236099298|Moose Toys Chocol...|            Toys|          4|           57|         60|   Y|                N|A Fun Afternoon o...|So many people th...|2015-08-23 00:00:00|\n",
            "|         US|   49129501| R8XSDH6E6YWMX|B00UCWQMZ8|     738713791|Laugh & Learn Sma...|            Toys|          4|           22|         24|   Y|                N|    Good For Infants|This is a cute, e...|2015-08-23 00:00:00|\n",
            "|         US|   51928086|R36QIA7LBMW9AK|B00I2XNK4K|     394371034|Manhattan Toy Sto...|            Toys|          4|           28|         30|   Y|                N|Good for babies, ...|This little bead ...|2015-08-23 00:00:00|\n",
            "|         US|   51364926| REK18SZAA0YJ3|B00SDJG6MG|     574607218|Classic Operation...|            Toys|          1|           31|         34|   Y|                N|Very disappointin...|I could NOT be mo...|2015-08-23 00:00:00|\n",
            "|         US|   21236755|R1HB5HPQE6TLZM|B00TXQ0A84|     926846474|Hot Wheels RC Ter...|            Toys|          4|           21|         25|   Y|                N|Fun Kinda All-Ter...|We have a lot of ...|2015-08-22 00:00:00|\n",
            "|         US|   50302730| RKIT7N10IZJC4|B00SDJGCRA|      99240339|Magic The Gatheri...|            Toys|          4|           36|         43|   Y|                N|A Good Light Skir...|So...  Confession...|2015-08-21 00:00:00|\n",
            "+-----------+-----------+--------------+----------+--------------+--------------------+----------------+-----------+-------------+-----------+----+-----------------+--------------------+--------------------+-------------------+\n",
            "only showing top 20 rows\n",
            "\n"
          ]
        }
      ]
    },
    {
      "cell_type": "code",
      "source": [
        "vine_unpaid = filter_2.filter(df.vine == 'N')\n",
        "vine_unpaid.show()"
      ],
      "metadata": {
        "colab": {
          "base_uri": "https://localhost:8080/"
        },
        "id": "L0mLg2WrCgnB",
        "outputId": "9e59db59-ba81-4b03-de63-aa0d7e12d087"
      },
      "execution_count": 9,
      "outputs": [
        {
          "output_type": "stream",
          "name": "stdout",
          "text": [
            "+-----------+-----------+--------------+----------+--------------+--------------------+----------------+-----------+-------------+-----------+----+-----------------+--------------------+--------------------+-------------------+\n",
            "|marketplace|customer_id|     review_id|product_id|product_parent|       product_title|product_category|star_rating|helpful_votes|total_votes|vine|verified_purchase|     review_headline|         review_body|        review_date|\n",
            "+-----------+-----------+--------------+----------+--------------+--------------------+----------------+-----------+-------------+-----------+----+-----------------+--------------------+--------------------+-------------------+\n",
            "|         US|   11025729| ROP6ITXO8K5V2|B00LE9MZMW|     778942419|YJ Moyu 13x13x13 ...|            Toys|          5|           23|         27|   N|                Y|          Five Stars|Great cube, moves...|2015-08-31 00:00:00|\n",
            "|         US|   50123725|R3ND1LVU7AXCVF|B00LOV24VC|     363255349|Marshmallow Furni...|            Toys|          1|           21|         21|   N|                Y|If you want a qua...|i bought this cha...|2015-08-31 00:00:00|\n",
            "|         US|   44167324|R1QS8AOD6HX3ED|B011BWUDGG|     501779560|Leray Self Balanc...|            Toys|          4|           59|         81|   N|                N|   Solid warranty...|[[VIDEOID:164d1b1...|2015-08-31 00:00:00|\n",
            "|         US|   38209184|R2LWX4TZ67FWPT|B00IYOCSE0|     825711912|Flexible Flyer Pl...|            Toys|          4|           50|         50|   N|                N|its a great swing...|its a great swing...|2015-08-31 00:00:00|\n",
            "|         US|    7719843|R29IYHPYD14AGI|B000F3V2MW|     253592398|ALEX Toys Craft M...|            Toys|          3|           84|         84|   N|                Y|    preteen projects|I purchased this ...|2015-08-31 00:00:00|\n",
            "|         US|   21817391| RRO8C1IVZMD6H|B011KD5CGW|     984270738|Playskool Heroes ...|            Toys|          5|           22|         22|   N|                N|Rescan line is sm...|When buying rescu...|2015-08-31 00:00:00|\n",
            "|         US|   16379976|R2GHOWIWDVLN18|B00X9JDPYC|     681351265|UDI HD+ Drone wit...|            Toys|          1|           28|         36|   N|                Y|            One Star|The damn thing fl...|2015-08-31 00:00:00|\n",
            "|         US|   28820853|R30PJ9XUHFTY5D|B003VYAJMG|     103705238|Little Tikes Bold...|            Toys|          5|           42|         43|   N|                N|My Granddaughter ...|My 18 month old g...|2015-08-31 00:00:00|\n",
            "|         US|    9988621|R2F7D9N3SSQC20|B00YI1CHHG|     150124290|CloudPets 12in - ...|            Toys|          4|           32|         34|   N|                N|My daughter and I...|This bear is incr...|2015-08-31 00:00:00|\n",
            "|         US|   27803490| RN4VK9FV66YPS|B00WJ1O76G|     701543085|LeapFrog Number L...|            Toys|          5|           29|         33|   N|                N|         LOVE THIS!!|[[VIDEOID:9050e95...|2015-08-31 00:00:00|\n",
            "|         US|   50970965|R18T8SFBDXAKSY|B002TLDRI0|     198159965|JIGBOARD 1500 - J...|            Toys|          5|           95|         95|   N|                Y|Love it. With fiv...|Love it.  With fi...|2015-08-31 00:00:00|\n",
            "|         US|    8109655|R36SKVJXZ0I98A|8499000606|     536492553|Syma S107/S107G R...|            Toys|          5|          124|        127|   N|                N|Nice, light weigh...|The Syma Helicopt...|2015-08-31 00:00:00|\n",
            "|         US|     182750|R3PAIHQSO707G4|B010TU7LP2|       3331341|Exploding Kittens...|            Toys|          5|          189|        221|   N|                N|NSFW = NOT SAFE F...|Exploding Kittens...|2015-08-31 00:00:00|\n",
            "|         US|    1449184|R2TETIV0IVWFSJ|B008R67UKM|     775534268|Good cosplay stra...|            Toys|          4|           80|         82|   N|                Y|and fits nicely. ...|Well constructed,...|2015-08-31 00:00:00|\n",
            "|         US|    6105658|R1VBVD23GPZW0E|B00YSWUDGM|     412449765|100 Assorted Poke...|            Toys|          5|           55|         58|   N|                Y|So that was prett...|Came in a brown b...|2015-08-31 00:00:00|\n",
            "|         US|   48638849|R1AJKXVHURPVCZ|B00DCENMWY|     376397735|Mice and Mystics:...|            Toys|          3|           12|         22|   N|                Y|Lacking in produc...|Keeping everythin...|2015-08-31 00:00:00|\n",
            "|         US|   29775971|R32RD311POLW7G|B00IEH9FQG|     303166933|KidKraft Airplane...|            Toys|          3|           25|         27|   N|                Y|Adorable but asse...|Aesthetically, th...|2015-08-30 00:00:00|\n",
            "|         US|   35208712|R1VXO073B9HOGC|B0033JB3UG|     676646525| Buttercup Dollhouse|            Toys|          4|           29|         30|   N|                Y|Cute little doll ...|You have to prep ...|2015-08-30 00:00:00|\n",
            "|         US|   15955579|R1HRS4CUK4ZJEY|B00IR6Q82S|     582942807|Little Tikes Jeep...|            Toys|          4|           27|         28|   N|                Y|You need at most ...|You need at most ...|2015-08-30 00:00:00|\n",
            "|         US|   48164731|R2UOHYXU2G0LLJ|B00U5JZDG2|     362745515|Bandai Tamashii N...|            Toys|          5|           30|         30|   N|                Y|Awesome SH Figuar...|Absolutely beauti...|2015-08-30 00:00:00|\n",
            "+-----------+-----------+--------------+----------+--------------+--------------------+----------------+-----------+-------------+-----------+----+-----------------+--------------------+--------------------+-------------------+\n",
            "only showing top 20 rows\n",
            "\n"
          ]
        }
      ]
    },
    {
      "cell_type": "code",
      "source": [
        "vine_paid_review = vine_paid.count()\n",
        "vine_paid_review"
      ],
      "metadata": {
        "colab": {
          "base_uri": "https://localhost:8080/"
        },
        "id": "b6e6075mGa3l",
        "outputId": "fd5feda6-0fb6-42ce-efe8-067cb4e784b6"
      },
      "execution_count": 10,
      "outputs": [
        {
          "output_type": "execute_result",
          "data": {
            "text/plain": [
              "1203"
            ]
          },
          "metadata": {},
          "execution_count": 10
        }
      ]
    },
    {
      "cell_type": "code",
      "source": [
        "vine_paid_fivestar = vine_paid.filter(vine_paid.star_rating == 5).count()\n",
        "vine_paid_fivestar"
      ],
      "metadata": {
        "colab": {
          "base_uri": "https://localhost:8080/"
        },
        "id": "kq5xS7EnCgp5",
        "outputId": "c288cf8a-09c1-40c4-9e6b-7cf7a0b69632"
      },
      "execution_count": 11,
      "outputs": [
        {
          "output_type": "execute_result",
          "data": {
            "text/plain": [
              "410"
            ]
          },
          "metadata": {},
          "execution_count": 11
        }
      ]
    },
    {
      "cell_type": "code",
      "source": [
        "vine_paid_fivestar_percentage = vine_paid_fivestar/vine_paid_review * 100\n",
        "vine_paid_fivestar_percentage"
      ],
      "metadata": {
        "colab": {
          "base_uri": "https://localhost:8080/"
        },
        "id": "k18VTdcIF8DR",
        "outputId": "e5f001fd-ddb8-4a94-8aba-d32c7701e17c"
      },
      "execution_count": 12,
      "outputs": [
        {
          "output_type": "execute_result",
          "data": {
            "text/plain": [
              "34.08146300914381"
            ]
          },
          "metadata": {},
          "execution_count": 12
        }
      ]
    },
    {
      "cell_type": "code",
      "source": [
        "vine_unpaid_review = vine_unpaid.count()\n",
        "vine_unpaid_review"
      ],
      "metadata": {
        "colab": {
          "base_uri": "https://localhost:8080/"
        },
        "id": "CnmjoSkVF8VM",
        "outputId": "ae9dd20e-bb94-4869-e247-a7183cae5a65"
      },
      "execution_count": 13,
      "outputs": [
        {
          "output_type": "execute_result",
          "data": {
            "text/plain": [
              "58018"
            ]
          },
          "metadata": {},
          "execution_count": 13
        }
      ]
    },
    {
      "cell_type": "code",
      "source": [
        "vine_unpaid_fivestar = vine_unpaid.filter(vine_unpaid.star_rating == 5).count()\n",
        "vine_unpaid_fivestar"
      ],
      "metadata": {
        "colab": {
          "base_uri": "https://localhost:8080/"
        },
        "id": "HtRJkaIbF8Zd",
        "outputId": "edb569e5-980a-4a53-e2fd-f89d778ee3d6"
      },
      "execution_count": 14,
      "outputs": [
        {
          "output_type": "execute_result",
          "data": {
            "text/plain": [
              "28043"
            ]
          },
          "metadata": {},
          "execution_count": 14
        }
      ]
    },
    {
      "cell_type": "code",
      "source": [
        "vine_unpaid_fivestar_percentage = vine_unpaid_fivestar/vine_unpaid_review * 100\n",
        "vine_unpaid_fivestar_percentage"
      ],
      "metadata": {
        "colab": {
          "base_uri": "https://localhost:8080/"
        },
        "id": "k2lBnsPGHZgW",
        "outputId": "1ec4a71f-cd53-4692-d056-362867582302"
      },
      "execution_count": 15,
      "outputs": [
        {
          "output_type": "execute_result",
          "data": {
            "text/plain": [
              "48.334999482919095"
            ]
          },
          "metadata": {},
          "execution_count": 15
        }
      ]
    },
    {
      "cell_type": "code",
      "source": [
        "Table = spark.createDataFrame([\n",
        "                              (\"paid\", vine_paid_review, vine_paid_fivestar, vine_paid_fivestar_percentage),\n",
        "                              (\"unpaid\", vine_unpaid_review, vine_unpaid_fivestar, vine_unpaid_fivestar_percentage),\n",
        "], [\"Type\", \"Total number of reviews\", \"Total number of 5-star reviews\", \"5-star review percetage\"])\n",
        "Table.show()"
      ],
      "metadata": {
        "colab": {
          "base_uri": "https://localhost:8080/"
        },
        "id": "6S63Qh4AHhIQ",
        "outputId": "00f2f663-ec3f-40e0-eb60-f71ead678c32"
      },
      "execution_count": 16,
      "outputs": [
        {
          "output_type": "stream",
          "name": "stdout",
          "text": [
            "+------+-----------------------+------------------------------+-----------------------+\n",
            "|  Type|Total number of reviews|Total number of 5-star reviews|5-star review percetage|\n",
            "+------+-----------------------+------------------------------+-----------------------+\n",
            "|  paid|                   1203|                           410|      34.08146300914381|\n",
            "|unpaid|                  58018|                         28043|     48.334999482919095|\n",
            "+------+-----------------------+------------------------------+-----------------------+\n",
            "\n"
          ]
        }
      ]
    }
  ]
}